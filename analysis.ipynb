{
 "cells": [
  {
   "cell_type": "code",
   "execution_count": null,
   "id": "bd3efbc6",
   "metadata": {},
   "outputs": [],
   "source": [
    "import numpy as np\n",
    "from deap import gp\n",
    "import matplotlib.pyplot as plt\n",
    "\n",
    "from functions import testing_functions\n",
    "from GP import train_gp, pset\n",
    "from PSO import pso_original, pso_evolved"
   ]
  },
  {
   "cell_type": "markdown",
   "id": "cbdab7ac",
   "metadata": {},
   "source": [
    "## Training "
   ]
  },
  {
   "cell_type": "code",
   "execution_count": null,
   "id": "f27feac7",
   "metadata": {},
   "outputs": [],
   "source": [
    "#np.random.seed(42)\n",
    "best_rule_1, min_1, avg_1 = train_gp(mode=1)"
   ]
  },
  {
   "cell_type": "code",
   "execution_count": null,
   "id": "e04dc832",
   "metadata": {},
   "outputs": [],
   "source": [
    "best_rule_2, min_2, avg_2 = train_gp(mode=2)"
   ]
  },
  {
   "cell_type": "code",
   "execution_count": null,
   "id": "8971a32b",
   "metadata": {},
   "outputs": [],
   "source": [
    "best_rule_3, min_3, avg_3 = train_gp(mode=3)"
   ]
  },
  {
   "cell_type": "code",
   "execution_count": null,
   "id": "85062d4f",
   "metadata": {},
   "outputs": [],
   "source": [
    "generations = np.arange(len(min_1))\n",
    "plt.figure(figsize=(10, 6))\n",
    "plt.plot(generations, min_1, label='Min Fitness', color='blue')\n",
    "plt.plot(generations, avg_1, label='Avg Fitness', color='blue', linestyle='--')\n",
    "plt.plot(generations, min_2, label='Min Fitness', color='orange')\n",
    "plt.plot(generations, avg_2, label='Avg Fitness', color='orange', linestyle='--')\n",
    "plt.plot(generations, min_3, label='Min Fitness', color='green')\n",
    "plt.plot(generations, avg_3, label='Avg Fitness', color='green', linestyle='--')\n",
    "plt.xlabel('Generation')\n",
    "plt.ylabel('Fitness')\n",
    "plt.yscale('log')\n",
    "plt.title('GP Fitness Over Generations')\n",
    "plt.legend()\n",
    "plt.grid(True)\n",
    "plt.tight_layout()\n",
    "plt.show()"
   ]
  },
  {
   "cell_type": "markdown",
   "id": "ac9d586a",
   "metadata": {},
   "source": [
    "## Testing"
   ]
  },
  {
   "cell_type": "code",
   "execution_count": null,
   "id": "0d7a8c6a",
   "metadata": {},
   "outputs": [],
   "source": [
    "n_iter = 100\n",
    "fitness_across_problems = []\n",
    "best_rules = [best_rule_1, best_rule_2, best_rule_3]\n",
    "c = 0\n",
    "\n",
    "for best_rule in best_rules:\n",
    "    c += 1\n",
    "    print(f\"Best solution found by Evolved PSO (fitness {c}):\")\n",
    "    for problem in testing_functions:\n",
    "        fitness_runs = []\n",
    "\n",
    "        for i in range(n_iter):\n",
    "            np.random.seed(i)\n",
    "            best, hist = pso_evolved(\n",
    "                swarm_size=30,\n",
    "                boundaries=problem[\"boundaries\"],\n",
    "                alfa=0.2,\n",
    "                n_iter=50,\n",
    "                fit=lambda p: problem[\"fit\"](*p),\n",
    "                update_rule=gp.compile(best_rule, pset=pset)\n",
    "            )\n",
    "\n",
    "            if c == 1:\n",
    "                fitness_value = np.abs(problem[\"fit\"](*best) - problem[\"fit\"](*problem[\"global_min\"]))\n",
    "            elif c == 2:\n",
    "                fitness_value = np.sum(np.abs(best - problem[\"global_min\"]))\n",
    "            elif c == 3:\n",
    "                final_positions = hist[-1]\n",
    "                fitness_value = np.sum(np.sum(np.abs(p - problem[\"global_min\"])) for p in final_positions)\n",
    "            fitness_runs.append(fitness_value)\n",
    "\n",
    "        avg_problem_fitness = np.mean(fitness_runs)\n",
    "        std_problem_fitness = np.std(fitness_runs)\n",
    "        fitness_across_problems.append(avg_problem_fitness)\n",
    "\n",
    "        print(f\"Problem: {problem['name']}, Average Fitness: {avg_problem_fitness:.4f}, Std: {std_problem_fitness:.4f}\")\n",
    "\n",
    "    avg_fitness = np.mean(fitness_across_problems)\n",
    "    std_fitness = np.std(fitness_across_problems)\n",
    "\n",
    "    print(f\"Average Fitness across problems: {avg_fitness:.4f}\")\n",
    "    print(f\"Standard Deviation across problems: {std_fitness:.4f}\\n\")"
   ]
  },
  {
   "cell_type": "code",
   "execution_count": null,
   "id": "88edd049",
   "metadata": {},
   "outputs": [],
   "source": [
    "fitness_across_problems = []\n",
    "c = 0\n",
    "\n",
    "for best_rule in best_rules:\n",
    "    c += 1\n",
    "    print(f\"Best solution found by Original PSO (fitness {c}):\")\n",
    "    for problem in testing_functions:\n",
    "        fitness_runs = []\n",
    "\n",
    "        for i in range(n_iter):\n",
    "            np.random.seed(i)\n",
    "            best, hist = pso_original(\n",
    "                swarm_size=30,\n",
    "                boundaries=problem[\"boundaries\"],\n",
    "                alfa=0.2,\n",
    "                n_iter=50,\n",
    "                fit=lambda p: problem[\"fit\"](*p),\n",
    "            )\n",
    "\n",
    "            if c == 1:\n",
    "                fitness_value = np.abs(problem[\"fit\"](*best) - problem[\"fit\"](*problem[\"global_min\"]))\n",
    "            elif c == 2:\n",
    "                fitness_value = np.sum(np.abs(best - problem[\"global_min\"]))\n",
    "            elif c == 3:\n",
    "                final_positions = hist[-1]\n",
    "                fitness_value = np.sum(np.sum(np.abs(p - problem[\"global_min\"])) for p in final_positions)\n",
    "            fitness_runs.append(fitness_value)\n",
    "\n",
    "        avg_problem_fitness = np.mean(fitness_runs)\n",
    "        std_problem_fitness = np.std(fitness_runs)\n",
    "        fitness_across_problems.append(avg_problem_fitness)\n",
    "\n",
    "        print(f\"Problem: {problem['name']}, Average Fitness: {avg_problem_fitness:.4f}, Std: {std_problem_fitness:.4f}\")\n",
    "\n",
    "    avg_fitness = np.mean(fitness_across_problems)\n",
    "    std_fitness = np.std(fitness_across_problems)\n",
    "\n",
    "    print(f\"Average Fitness across problems: {avg_fitness:.4f}\")\n",
    "    print(f\"Standard Deviation across problems: {std_fitness:.4f}\\n\")"
   ]
  },
  {
   "cell_type": "code",
   "execution_count": null,
   "id": "d86eb013",
   "metadata": {},
   "outputs": [],
   "source": []
  }
 ],
 "metadata": {
  "kernelspec": {
   "display_name": "venv",
   "language": "python",
   "name": "python3"
  },
  "language_info": {
   "codemirror_mode": {
    "name": "ipython",
    "version": 3
   },
   "file_extension": ".py",
   "mimetype": "text/x-python",
   "name": "python",
   "nbconvert_exporter": "python",
   "pygments_lexer": "ipython3",
   "version": "3.12.3"
  }
 },
 "nbformat": 4,
 "nbformat_minor": 5
}
